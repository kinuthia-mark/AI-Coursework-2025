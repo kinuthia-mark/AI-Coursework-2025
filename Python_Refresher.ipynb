{
  "nbformat": 4,
  "nbformat_minor": 0,
  "metadata": {
    "colab": {
      "provenance": [],
      "authorship_tag": "ABX9TyMYhsaj3g33F7a0Hw3UIiZm",
      "include_colab_link": true
    },
    "kernelspec": {
      "name": "python3",
      "display_name": "Python 3"
    },
    "language_info": {
      "name": "python"
    }
  },
  "cells": [
    {
      "cell_type": "markdown",
      "metadata": {
        "id": "view-in-github",
        "colab_type": "text"
      },
      "source": [
        "<a href=\"https://colab.research.google.com/github/kinuthia-mark/AI-Coursework-2025/blob/main/Python_Refresher.ipynb\" target=\"_parent\"><img src=\"https://colab.research.google.com/assets/colab-badge.svg\" alt=\"Open In Colab\"/></a>"
      ]
    },
    {
      "cell_type": "markdown",
      "source": [
        "# Question 1"
      ],
      "metadata": {
        "id": "umz8-cRzwF00"
      }
    },
    {
      "cell_type": "code",
      "source": [
        "days = int(input(\"Enter number of days: \")) #Ask the user for the number of days"
      ],
      "metadata": {
        "id": "5Lthx8RfwDVf"
      },
      "execution_count": null,
      "outputs": []
    },
    {
      "cell_type": "code",
      "source": [
        "seconds = days * 24 * 60 * 60 # Calculate seconds in the given number of days"
      ],
      "metadata": {
        "id": "34ujRA9pxpyt"
      },
      "execution_count": null,
      "outputs": []
    },
    {
      "cell_type": "code",
      "source": [
        "print(f\"{days} days is equal to {seconds} seconds.\") # Output the result"
      ],
      "metadata": {
        "id": "rLG9qslEx01b"
      },
      "execution_count": null,
      "outputs": []
    },
    {
      "cell_type": "markdown",
      "source": [
        "#Question 2"
      ],
      "metadata": {
        "id": "60N4GkUl1KdV"
      }
    },
    {
      "cell_type": "code",
      "source": [
        "import math # import pi"
      ],
      "metadata": {
        "id": "u7AlAQcb1Nc7"
      },
      "execution_count": null,
      "outputs": []
    },
    {
      "cell_type": "code",
      "source": [
        "radius = float(input(\"Enter the radius of the sphere: \")) # Ask user to input the radius"
      ],
      "metadata": {
        "id": "VUM30ivU1XS8"
      },
      "execution_count": null,
      "outputs": []
    },
    {
      "cell_type": "code",
      "source": [
        "volume = (4/3) * math.pi * (radius ** 3) # Calculate the volume"
      ],
      "metadata": {
        "id": "9UtzMLS81cyq"
      },
      "execution_count": null,
      "outputs": []
    },
    {
      "cell_type": "code",
      "source": [
        "print(f\"The volume of the sphere with radius {radius} is {volume:.2f}\") # Output the result"
      ],
      "metadata": {
        "id": "sWxpYMBC1lYF"
      },
      "execution_count": null,
      "outputs": []
    },
    {
      "cell_type": "markdown",
      "source": [
        "# Question 3"
      ],
      "metadata": {
        "id": "D0tfu7TG1rw5"
      }
    },
    {
      "cell_type": "code",
      "source": [
        "def area(side):\n",
        "    return side * side # Function to calculate area"
      ],
      "metadata": {
        "id": "R3TUV8U_1xGC"
      },
      "execution_count": null,
      "outputs": []
    },
    {
      "cell_type": "code",
      "source": [
        "def perimeter(side):\n",
        "    return 4 * side # Function to calculate perimeter"
      ],
      "metadata": {
        "id": "LBhhfPQd15lR"
      },
      "execution_count": null,
      "outputs": []
    },
    {
      "cell_type": "code",
      "source": [
        "side = float(input(\"Enter the side length of the square: \")) # Ask user for side length"
      ],
      "metadata": {
        "id": "dojf9VCQ3A1r"
      },
      "execution_count": null,
      "outputs": []
    },
    {
      "cell_type": "code",
      "source": [
        "print(f\"Area: {area(side)}\")\n",
        "print(f\"Perimeter: {perimeter(side)}\") # Output area and perimeter"
      ],
      "metadata": {
        "id": "3ZxR-vBc3FPe"
      },
      "execution_count": null,
      "outputs": []
    },
    {
      "cell_type": "markdown",
      "source": [
        "# Question 4"
      ],
      "metadata": {
        "id": "YRON7bsh3LWf"
      }
    },
    {
      "cell_type": "code",
      "source": [
        "def check_case(char):\n",
        "    if char.isupper():\n",
        "        return \"Uppercase\"\n",
        "    elif char.islower():\n",
        "        return \"Lowercase\"\n",
        "    else:\n",
        "        return \"Not a letter\" # Function to check if character is uppercase or lowercase"
      ],
      "metadata": {
        "id": "hpbHWD-o3N0P"
      },
      "execution_count": null,
      "outputs": []
    },
    {
      "cell_type": "code",
      "source": [
        "character = input(\"Enter a character: \") # Ask user for a single character"
      ],
      "metadata": {
        "id": "8EnR3OTr3gyk"
      },
      "execution_count": null,
      "outputs": []
    },
    {
      "cell_type": "code",
      "source": [
        "print(check_case(character)) # Call the function and display result"
      ],
      "metadata": {
        "id": "ySsy2tZaC4Z8"
      },
      "execution_count": null,
      "outputs": []
    },
    {
      "cell_type": "markdown",
      "source": [
        "#Question 5"
      ],
      "metadata": {
        "id": "-gucoSdLDDcE"
      }
    },
    {
      "cell_type": "code",
      "source": [
        "x = 0\n",
        "y = 20 #initial values"
      ],
      "metadata": {
        "id": "RyeAF8z6DGPt"
      },
      "execution_count": null,
      "outputs": []
    },
    {
      "cell_type": "code",
      "source": [
        "while y >= 6:\n",
        "    y = y - 4\n",
        "    x = x + (2 / y) # Loop until y is less than 6"
      ],
      "metadata": {
        "id": "EHOI2JiMDNY7"
      },
      "execution_count": null,
      "outputs": []
    },
    {
      "cell_type": "code",
      "source": [
        "print(\"Final value of x is:\", x) # Output x"
      ],
      "metadata": {
        "id": "gNZ4w34qDRP2"
      },
      "execution_count": null,
      "outputs": []
    },
    {
      "cell_type": "code",
      "source": [],
      "metadata": {
        "id": "uf-KqyyIDa_F"
      },
      "execution_count": null,
      "outputs": []
    },
    {
      "cell_type": "markdown",
      "source": [
        "# Question 6"
      ],
      "metadata": {
        "id": "eEZ0MVTtDYfi"
      }
    },
    {
      "cell_type": "code",
      "source": [
        "values = [] # Initialize empty list"
      ],
      "metadata": {
        "id": "7Ycb1Z2vDgDy"
      },
      "execution_count": null,
      "outputs": []
    },
    {
      "cell_type": "code",
      "source": [
        "for i in range(5):\n",
        "    num = float(input(f\"Enter value {i+1}: \"))\n",
        "    values.append(num) # Loop to get 5 values"
      ],
      "metadata": {
        "id": "qze1pl5aDkyR"
      },
      "execution_count": null,
      "outputs": []
    },
    {
      "cell_type": "code",
      "source": [
        "average = sum(values) / len(values) # Calculate average"
      ],
      "metadata": {
        "id": "zVsygZZMDons"
      },
      "execution_count": null,
      "outputs": []
    },
    {
      "cell_type": "code",
      "source": [
        "print(\"Average of entered values:\", average) # Output average"
      ],
      "metadata": {
        "id": "NA00TQqhD1Ya"
      },
      "execution_count": null,
      "outputs": []
    },
    {
      "cell_type": "markdown",
      "source": [
        "# Question 7"
      ],
      "metadata": {
        "id": "tYP_NpQvD-TS"
      }
    },
    {
      "cell_type": "code",
      "source": [
        "from google.colab import drive\n",
        "drive.mount('content/drive/MyDrive/Screenshot 2025-09-05 212346.png')\n"
      ],
      "metadata": {
        "colab": {
          "base_uri": "https://localhost:8080/"
        },
        "id": "vuFkFooAJXjT",
        "outputId": "5849c875-3c1a-4bd1-9973-a747ebe53891"
      },
      "execution_count": null,
      "outputs": [
        {
          "output_type": "stream",
          "name": "stdout",
          "text": [
            "Mounted at /content/drive\n"
          ]
        }
      ]
    }
  ]
}